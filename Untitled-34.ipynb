{
 "cells": [
  {
   "cell_type": "code",
   "execution_count": null,
   "metadata": {},
   "outputs": [],
   "source": [
    "variable \n",
    "    i,s,m:entiers\n",
    "tableau\n",
    "    t(10):reel\n",
    "debut\n",
    "s=0\n",
    "m=1\n",
    "pour i recoit 0 a 9 pas 1 faire\n",
    "ecrire(\"donner le nombre numero\",i+1)\n",
    "lire(t(i))\n",
    "s=s+t(i)\n",
    "m=m*t(i)\n",
    "fin pour \n",
    "ecrire(\"la somme:\",s)\n",
    "ecrire(\"le produit:\",m)\n",
    "ecrire(\"la moyenne:\",s/10)"
   ]
  }
 ],
 "metadata": {
  "language_info": {
   "name": "python"
  }
 },
 "nbformat": 4,
 "nbformat_minor": 2
}
