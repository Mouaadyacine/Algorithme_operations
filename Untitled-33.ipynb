{
 "cells": [
  {
   "cell_type": "code",
   "execution_count": null,
   "metadata": {},
   "outputs": [],
   "source": [
    "variable\n",
    "     i:entier\n",
    "tableau\n",
    "    tab(6):caractere\n",
    "debut\n",
    "pour i recoit 0 a 5 pas 1 faire\n",
    "ecrire(\"donner la voyelle numero\",i+1)\n",
    "lire(tab(i))\n",
    "fin pour \n",
    "pour i recoit 0 a 5 pas 1 faire \n",
    "ecrire(\"la la voyelle numero\",i+1,\"est:\",tab(i))\n",
    "fin pour \n",
    "fin"
   ]
  }
 ],
 "metadata": {
  "language_info": {
   "name": "python"
  }
 },
 "nbformat": 4,
 "nbformat_minor": 2
}
